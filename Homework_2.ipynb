{
  "nbformat": 4,
  "nbformat_minor": 0,
  "metadata": {
    "colab": {
      "provenance": [],
      "authorship_tag": "ABX9TyMh1MdbgNtL8e3/lh9Tx/XJ",
      "include_colab_link": true
    },
    "kernelspec": {
      "name": "python3",
      "display_name": "Python 3"
    },
    "language_info": {
      "name": "python"
    }
  },
  "cells": [
    {
      "cell_type": "markdown",
      "metadata": {
        "id": "view-in-github",
        "colab_type": "text"
      },
      "source": [
        "<a href=\"https://colab.research.google.com/github/evangelinemeyler/BME3053C-Fall-2025/blob/main/Homework_2.ipynb\" target=\"_parent\"><img src=\"https://colab.research.google.com/assets/colab-badge.svg\" alt=\"Open In Colab\"/></a>"
      ]
    },
    {
      "cell_type": "code",
      "execution_count": 9,
      "metadata": {
        "colab": {
          "base_uri": "https://localhost:8080/"
        },
        "id": "TJyCY1v0Rtae",
        "outputId": "db486cf3-1a8f-4307-980f-7d02d8816766"
      },
      "outputs": [
        {
          "output_type": "execute_result",
          "data": {
            "text/plain": [
              "[0.0,\n",
              " 0.32075471698113206,\n",
              " 0.5849056603773585,\n",
              " 0.05660377358490566,\n",
              " 0.7924528301886793,\n",
              " 1.0,\n",
              " 0.1320754716981132,\n",
              " 0.6415094339622641]"
            ]
          },
          "metadata": {},
          "execution_count": 9
        }
      ],
      "source": [
        "bp_readings =[120, 137, 151, 123, 162, 173, 127, 154]\n",
        "def normalize_list(arr):\n",
        "  min_value=min(arr)\n",
        "  max_value=max (arr)\n",
        "  if max_value == min_value:\n",
        "   return [1] * len(arr)\n",
        "\n",
        "  noormalized=[]\n",
        "  for x in arr:\n",
        "    a=(x-min_value)/(max_value-min_value)\n",
        "    noormalized.append(a)\n",
        "  return noormalized\n",
        "  print(noormalized)\n",
        "\n",
        "normalize_list(bp_readings)\n"
      ]
    }
  ]
}