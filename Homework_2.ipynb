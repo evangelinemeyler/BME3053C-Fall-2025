{
  "nbformat": 4,
  "nbformat_minor": 0,
  "metadata": {
    "colab": {
      "provenance": [],
      "authorship_tag": "ABX9TyM+jcn/XZlfUt4+jNNGXzSP",
      "include_colab_link": true
    },
    "kernelspec": {
      "name": "python3",
      "display_name": "Python 3"
    },
    "language_info": {
      "name": "python"
    }
  },
  "cells": [
    {
      "cell_type": "markdown",
      "metadata": {
        "id": "view-in-github",
        "colab_type": "text"
      },
      "source": [
        "<a href=\"https://colab.research.google.com/github/evangelinemeyler/BME3053C-Fall-2025/blob/main/Homework_2.ipynb\" target=\"_parent\"><img src=\"https://colab.research.google.com/assets/colab-badge.svg\" alt=\"Open In Colab\"/></a>"
      ]
    },
    {
      "cell_type": "code",
      "execution_count": 20,
      "metadata": {
        "colab": {
          "base_uri": "https://localhost:8080/"
        },
        "id": "TJyCY1v0Rtae",
        "outputId": "19432e3f-2218-4a95-90c0-57e9ea5640fd"
      },
      "outputs": [
        {
          "output_type": "stream",
          "name": "stdout",
          "text": [
            "[0.0, 0.32075471698113206, 0.5849056603773585, 0.05660377358490566, 0.7924528301886793, 1.0, 0.1320754716981132, 0.6415094339622641]\n"
          ]
        }
      ],
      "source": [
        "bp_readings = [120, 137, 151, 123, 162, 173, 127, 154]\n",
        "\n",
        "def normalize_list(arr):\n",
        "    min_value = min(arr)\n",
        "    max_value = max(arr)\n",
        "    if max_value == min_value:\n",
        "        return [0.0] * len(arr)\n",
        "    max_min = max_value - min_value\n",
        "    normalized = []\n",
        "    for x in arr:\n",
        "        a = (x - min_value) / max_min\n",
        "        normalized.append(a)\n",
        "    return normalized\n",
        "\n",
        "print(normalize_list(bp_readings))\n",
        "\n"
      ]
    }
  ]
}